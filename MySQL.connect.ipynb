{
 "cells": [
  {
   "cell_type": "code",
   "execution_count": 21,
   "metadata": {},
   "outputs": [],
   "source": [
    "import pandas as pd\n",
    "import mysql.connector\n",
    "\n",
    "# Load CSV into a DataFrame\n",
    "data = pd.read_csv('C:/Users/asus/Downloads/hr_employee_cleaned.csv')\n",
    "\n",
    "# Establish a connection to the MySQL database\n",
    "\n",
    "\n",
    "# Fetch the actual column names from the MySQL table\n",
    "cursor.execute(\"SHOW COLUMNS FROM employeee\")\n",
    "columns = [col[0] for col in cursor.fetchall()]  # Fetch all column names\n",
    "columns_str = ', '.join(columns)\n",
    "placeholders = ', '.join(['%s' for _ in range(len(columns))])\n",
    "\n",
    "# Create SQL query using actual column names\n",
    "sql = f\"INSERT INTO employeee ({columns_str}) VALUES ({placeholders})\"\n",
    "\n",
    "# Insert DataFrame into MySQL table\n",
    "for i, row in data.iterrows():\n",
    "    cursor.execute(sql, tuple(row))\n",
    "\n",
    "\n",
    "conn.commit()\n",
    "cursor.close()\n",
    "conn.close()\n"
   ]
  },
  {
   "cell_type": "code",
   "execution_count": 23,
   "metadata": {},
   "outputs": [
    {
     "name": "stdout",
     "output_type": "stream",
     "text": [
      "Number of rows in the MySQL table: 1379\n",
      "Number of rows in the CSV file: 1379\n"
     ]
    }
   ],
   "source": [
    "conn = mysql.connector.connect(\n",
    "    user = 'root',\n",
    "    host = 'localhost',\n",
    "    password='Anugera@1',\n",
    "    database=\"exltraining\"\n",
    ")\n",
    "\n",
    "cursor = conn.cursor()\n",
    "\n",
    "# Query to check the number of rows in the table\n",
    "cursor.execute(\"SELECT COUNT(*) FROM employeee\")\n",
    "row_count = cursor.fetchone()[0]\n",
    "print(f\"Number of rows in the MySQL table: {row_count}\")\n",
    "\n",
    "# Number of rows in the CSV file\n",
    "print(f\"Number of rows in the CSV file: {len(data)}\")"
   ]
  },
  {
   "cell_type": "code",
   "execution_count": 3,
   "metadata": {},
   "outputs": [
    {
     "name": "stdout",
     "output_type": "stream",
     "text": [
      "\u001b[1m============================= test session starts =============================\u001b[0m\n",
      "platform win32 -- Python 3.12.4, pytest-7.4.4, pluggy-1.0.0 -- D:\\Anaconda\\python.exe\n",
      "cachedir: .pytest_cache\n",
      "rootdir: c:\\Users\\asus\\Downloads\\Project\n",
      "plugins: anyio-4.2.0\n",
      "\u001b[1mcollecting ... \u001b[0mcollected 5 items\n",
      "\n",
      "test.py::test_accuracy_decisiontree \u001b[31mFAILED\u001b[0m\u001b[31m                               [ 20%]\u001b[0m\n",
      "test.py::test_linear_model_accuracy \u001b[31mFAILED\u001b[0m\u001b[31m                               [ 40%]\u001b[0m\n",
      "test.py::test_train_and_evaluate_logistic_regression \u001b[32mPASSED\u001b[0m\u001b[31m              [ 60%]\u001b[0m\n",
      "test.py::test_accuracy_svm \u001b[33mXFAIL\u001b[0m\u001b[31m                                         [ 80%]\u001b[0m\n",
      "test.py::test_RFmodel_accuracy \u001b[31mFAILED\u001b[0m\u001b[31m                                    [100%]\u001b[0m\n",
      "\n",
      "================================== FAILURES ===================================\n",
      "\u001b[31m\u001b[1m_________________________ test_accuracy_decisiontree __________________________\u001b[0m\n",
      "\n",
      "    \u001b[94mdef\u001b[39;49;00m \u001b[92mtest_accuracy_decisiontree\u001b[39;49;00m():\u001b[90m\u001b[39;49;00m\n",
      "    \u001b[90m\u001b[39;49;00m\n",
      ">       accuracyd = test_accuracy_decisiontree()\u001b[90m\u001b[39;49;00m\n",
      "\n",
      "\u001b[1m\u001b[31mtest.py\u001b[0m:18: \n",
      "_ _ _ _ _ _ _ _ _ _ _ _ _ _ _ _ _ _ _ _ _ _ _ _ _ _ _ _ _ _ _ _ _ _ _ _ _ _ _ _\n",
      "\u001b[1m\u001b[31mtest.py\u001b[0m:18: in test_accuracy_decisiontree\n",
      "    accuracyd = test_accuracy_decisiontree()\u001b[90m\u001b[39;49;00m\n",
      "\u001b[1m\u001b[31mE   RecursionError: maximum recursion depth exceeded\u001b[0m\n",
      "!!! Recursion detected (same locals & position)\n",
      "\u001b[31m\u001b[1m_________________________ test_linear_model_accuracy __________________________\u001b[0m\n",
      "\n",
      "    \u001b[94mdef\u001b[39;49;00m \u001b[92mtest_linear_model_accuracy\u001b[39;49;00m():\u001b[90m\u001b[39;49;00m\n",
      "    \u001b[90m\u001b[39;49;00m\n",
      "        mse, r2 = train_and_evaluate_model()\u001b[90m\u001b[39;49;00m\n",
      "    \u001b[90m\u001b[39;49;00m\n",
      "        \u001b[90m# Assert that the R² score is above 0.5, a reasonable threshold for accuracy\u001b[39;49;00m\u001b[90m\u001b[39;49;00m\n",
      ">       \u001b[94massert\u001b[39;49;00m r2 > \u001b[94m0.5\u001b[39;49;00m, \u001b[33mf\u001b[39;49;00m\u001b[33m\"\u001b[39;49;00m\u001b[33mR² score too low: \u001b[39;49;00m\u001b[33m{\u001b[39;49;00mr2\u001b[33m}\u001b[39;49;00m\u001b[33m\"\u001b[39;49;00m\u001b[90m\u001b[39;49;00m\n",
      "\u001b[1m\u001b[31mE       AssertionError: R² score too low: 0.18065041719215558\u001b[0m\n",
      "\u001b[1m\u001b[31mE       assert 0.18065041719215558 > 0.5\u001b[0m\n",
      "\n",
      "\u001b[1m\u001b[31mtest.py\u001b[0m:12: AssertionError\n",
      "\u001b[31m\u001b[1m____________________________ test_RFmodel_accuracy ____________________________\u001b[0m\n",
      "\n",
      "    \u001b[94mdef\u001b[39;49;00m \u001b[92mtest_RFmodel_accuracy\u001b[39;49;00m():\u001b[90m\u001b[39;49;00m\n",
      "    \u001b[90m\u001b[39;49;00m\n",
      "        mse_rf, r2_rf, accuracy_rf, = train_and_evaluate_RFmodel()\u001b[90m\u001b[39;49;00m\n",
      "    \u001b[90m\u001b[39;49;00m\n",
      "        \u001b[90m# Assert that the R² score is above 0.5, a reasonable threshold for accuracy\u001b[39;49;00m\u001b[90m\u001b[39;49;00m\n",
      ">       \u001b[94massert\u001b[39;49;00m r2_rf > \u001b[94m0.5\u001b[39;49;00m, \u001b[33mf\u001b[39;49;00m\u001b[33m\"\u001b[39;49;00m\u001b[33mR² score too low: \u001b[39;49;00m\u001b[33m{\u001b[39;49;00mr2_rf\u001b[33m}\u001b[39;49;00m\u001b[33m\"\u001b[39;49;00m\u001b[90m\u001b[39;49;00m\n",
      "\u001b[1m\u001b[31mE       AssertionError: R² score too low: 0.21336485382783588\u001b[0m\n",
      "\u001b[1m\u001b[31mE       assert 0.21336485382783588 > 0.5\u001b[0m\n",
      "\n",
      "\u001b[1m\u001b[31mtest.py\u001b[0m:49: AssertionError\n",
      "---------------------------- Captured stdout call -----------------------------\n",
      "0.87248322147651\n",
      "\u001b[33m============================== warnings summary ===============================\u001b[0m\n",
      "test.py:40\n",
      "  c:\\Users\\asus\\Downloads\\Project\\test.py:40: PytestUnknownMarkWarning: Unknown pytest.mark.accuracy - is this a typo?  You can register custom marks to avoid this warning - for details, see https://docs.pytest.org/en/stable/how-to/mark.html\n",
      "    @pytest.mark.accuracy\n",
      "\n",
      "test.py::test_linear_model_accuracy\n",
      "  c:\\Users\\asus\\Downloads\\Project\\test_random_forest_.py:26: FutureWarning: A value is trying to be set on a copy of a DataFrame or Series through chained assignment using an inplace method.\n",
      "  The behavior will change in pandas 3.0. This inplace method will never work because the intermediate object on which we are setting values always behaves as a copy.\n",
      "  \n",
      "  For example, when doing 'df[col].method(value, inplace=True)', try using 'df.method({col: value}, inplace=True)' or df[col] = df[col].method(value) instead, to perform the operation inplace on the original object.\n",
      "  \n",
      "  \n",
      "    df_loaded[col].fillna(mean_value, inplace=True)\n",
      "\n",
      "test.py::test_linear_model_accuracy\n",
      "  c:\\Users\\asus\\Downloads\\Project\\test_random_forest_.py:31: FutureWarning: A value is trying to be set on a copy of a DataFrame or Series through chained assignment using an inplace method.\n",
      "  The behavior will change in pandas 3.0. This inplace method will never work because the intermediate object on which we are setting values always behaves as a copy.\n",
      "  \n",
      "  For example, when doing 'df[col].method(value, inplace=True)', try using 'df.method({col: value}, inplace=True)' or df[col] = df[col].method(value) instead, to perform the operation inplace on the original object.\n",
      "  \n",
      "  \n",
      "    df_loaded[col].fillna(mode_value, inplace=True)\n",
      "\n",
      "test.py::test_train_and_evaluate_logistic_regression\n",
      "  c:\\Users\\asus\\Downloads\\Project\\test_random_forest_.py:77: FutureWarning: A value is trying to be set on a copy of a DataFrame or Series through chained assignment using an inplace method.\n",
      "  The behavior will change in pandas 3.0. This inplace method will never work because the intermediate object on which we are setting values always behaves as a copy.\n",
      "  \n",
      "  For example, when doing 'df[col].method(value, inplace=True)', try using 'df.method({col: value}, inplace=True)' or df[col] = df[col].method(value) instead, to perform the operation inplace on the original object.\n",
      "  \n",
      "  \n",
      "    df_loaded[col].fillna(mean_value, inplace=True)\n",
      "\n",
      "test.py::test_train_and_evaluate_logistic_regression\n",
      "  c:\\Users\\asus\\Downloads\\Project\\test_random_forest_.py:82: FutureWarning: A value is trying to be set on a copy of a DataFrame or Series through chained assignment using an inplace method.\n",
      "  The behavior will change in pandas 3.0. This inplace method will never work because the intermediate object on which we are setting values always behaves as a copy.\n",
      "  \n",
      "  For example, when doing 'df[col].method(value, inplace=True)', try using 'df.method({col: value}, inplace=True)' or df[col] = df[col].method(value) instead, to perform the operation inplace on the original object.\n",
      "  \n",
      "  \n",
      "    df_loaded[col].fillna(mode_value, inplace=True)\n",
      "\n",
      "test.py::test_train_and_evaluate_logistic_regression\n",
      "  D:\\Anaconda\\Lib\\site-packages\\sklearn\\linear_model\\_logistic.py:469: ConvergenceWarning: lbfgs failed to converge (status=1):\n",
      "  STOP: TOTAL NO. of ITERATIONS REACHED LIMIT.\n",
      "  \n",
      "  Increase the number of iterations (max_iter) or scale the data as shown in:\n",
      "      https://scikit-learn.org/stable/modules/preprocessing.html\n",
      "  Please also refer to the documentation for alternative solver options:\n",
      "      https://scikit-learn.org/stable/modules/linear_model.html#logistic-regression\n",
      "    n_iter_i = _check_optimize_result(\n",
      "\n",
      "test.py::test_RFmodel_accuracy\n",
      "  c:\\Users\\asus\\Downloads\\Project\\test_random_forest_.py:179: FutureWarning: A value is trying to be set on a copy of a DataFrame or Series through chained assignment using an inplace method.\n",
      "  The behavior will change in pandas 3.0. This inplace method will never work because the intermediate object on which we are setting values always behaves as a copy.\n",
      "  \n",
      "  For example, when doing 'df[col].method(value, inplace=True)', try using 'df.method({col: value}, inplace=True)' or df[col] = df[col].method(value) instead, to perform the operation inplace on the original object.\n",
      "  \n",
      "  \n",
      "    df_loaded[col].fillna(mean_value, inplace=True)\n",
      "\n",
      "test.py::test_RFmodel_accuracy\n",
      "  c:\\Users\\asus\\Downloads\\Project\\test_random_forest_.py:184: FutureWarning: A value is trying to be set on a copy of a DataFrame or Series through chained assignment using an inplace method.\n",
      "  The behavior will change in pandas 3.0. This inplace method will never work because the intermediate object on which we are setting values always behaves as a copy.\n",
      "  \n",
      "  For example, when doing 'df[col].method(value, inplace=True)', try using 'df.method({col: value}, inplace=True)' or df[col] = df[col].method(value) instead, to perform the operation inplace on the original object.\n",
      "  \n",
      "  \n",
      "    df_loaded[col].fillna(mode_value, inplace=True)\n",
      "\n",
      "-- Docs: https://docs.pytest.org/en/stable/how-to/capture-warnings.html\n",
      "\u001b[36m\u001b[1m=========================== short test summary info ===========================\u001b[0m\n",
      "\u001b[31mFAILED\u001b[0m test.py::\u001b[1mtest_accuracy_decisiontree\u001b[0m - RecursionError: maximum recursion depth exceeded\n",
      "\u001b[31mFAILED\u001b[0m test.py::\u001b[1mtest_linear_model_accuracy\u001b[0m - AssertionError: R² score too low: 0.18065041719215558\n",
      "\u001b[31mFAILED\u001b[0m test.py::\u001b[1mtest_RFmodel_accuracy\u001b[0m - AssertionError: R² score too low: 0.21336485382783588\n",
      "\u001b[31m============= \u001b[31m\u001b[1m3 failed\u001b[0m, \u001b[32m1 passed\u001b[0m, \u001b[33m1 xfailed\u001b[0m, \u001b[33m8 warnings\u001b[0m\u001b[31m in 6.24s\u001b[0m\u001b[31m ==============\u001b[0m\n"
     ]
    }
   ],
   "source": [
    "!pytest test.py -v"
   ]
  },
  {
   "cell_type": "code",
   "execution_count": 1,
   "metadata": {},
   "outputs": [
    {
     "ename": "NameError",
     "evalue": "name 'conn' is not defined",
     "output_type": "error",
     "traceback": [
      "\u001b[1;31m---------------------------------------------------------------------------\u001b[0m",
      "\u001b[1;31mNameError\u001b[0m                                 Traceback (most recent call last)",
      "Cell \u001b[1;32mIn[1], line 1\u001b[0m\n\u001b[1;32m----> 1\u001b[0m conn\u001b[38;5;241m.\u001b[39mcommit()\n\u001b[0;32m      2\u001b[0m cursor\u001b[38;5;241m.\u001b[39mclose()\n\u001b[0;32m      3\u001b[0m conn\u001b[38;5;241m.\u001b[39mclose()\n",
      "\u001b[1;31mNameError\u001b[0m: name 'conn' is not defined"
     ]
    }
   ],
   "source": [
    "\n",
    "conn.commit()\n",
    "cursor.close()\n",
    "conn.close()\n"
   ]
  },
  {
   "cell_type": "code",
   "execution_count": 4,
   "metadata": {},
   "outputs": [
    {
     "name": "stdout",
     "output_type": "stream",
     "text": [
      "Collecting gttsNote: you may need to restart the kernel to use updated packages.\n",
      "\n",
      "  Downloading gTTS-2.5.3-py3-none-any.whl.metadata (4.1 kB)\n",
      "Requirement already satisfied: requests<3,>=2.27 in d:\\anaconda\\lib\\site-packages (from gtts) (2.32.2)\n",
      "Requirement already satisfied: click<8.2,>=7.1 in d:\\anaconda\\lib\\site-packages (from gtts) (8.1.7)\n",
      "Requirement already satisfied: colorama in d:\\anaconda\\lib\\site-packages (from click<8.2,>=7.1->gtts) (0.4.6)\n",
      "Requirement already satisfied: charset-normalizer<4,>=2 in d:\\anaconda\\lib\\site-packages (from requests<3,>=2.27->gtts) (2.0.4)\n",
      "Requirement already satisfied: idna<4,>=2.5 in d:\\anaconda\\lib\\site-packages (from requests<3,>=2.27->gtts) (3.7)\n",
      "Requirement already satisfied: urllib3<3,>=1.21.1 in d:\\anaconda\\lib\\site-packages (from requests<3,>=2.27->gtts) (2.2.2)\n",
      "Requirement already satisfied: certifi>=2017.4.17 in d:\\anaconda\\lib\\site-packages (from requests<3,>=2.27->gtts) (2024.7.4)\n",
      "Downloading gTTS-2.5.3-py3-none-any.whl (29 kB)\n",
      "Installing collected packages: gtts\n",
      "Successfully installed gtts-2.5.3\n"
     ]
    }
   ],
   "source": [
    "pip install gtts"
   ]
  },
  {
   "cell_type": "code",
   "execution_count": 3,
   "metadata": {},
   "outputs": [
    {
     "ename": "SyntaxError",
     "evalue": "invalid syntax (2012990976.py, line 1)",
     "output_type": "error",
     "traceback": [
      "\u001b[1;36m  Cell \u001b[1;32mIn[3], line 1\u001b[1;36m\u001b[0m\n\u001b[1;33m    pip install gtts\u001b[0m\n\u001b[1;37m        ^\u001b[0m\n\u001b[1;31mSyntaxError\u001b[0m\u001b[1;31m:\u001b[0m invalid syntax\n"
     ]
    }
   ],
   "source": [
    "\n",
    "pip install gtts\n",
    "#pygame or playsound\n",
    "#from playsound import playsound\n",
    "#playsound(\"welcome.mp3\")\n",
    "\n",
    "from gtts import gTTS\n",
    "import os\n",
    "mytext = 'welcome to AI session'\n",
    "language = 'en'\n",
    "myobj = gTTS(text=mytext,lang =language,slow=False)\n",
    "myobj.save(\"welcome.mp3\")\n",
    "os.system(\"start welcome.mp3\")"
   ]
  }
 ],
 "metadata": {
  "kernelspec": {
   "display_name": "base",
   "language": "python",
   "name": "python3"
  },
  "language_info": {
   "codemirror_mode": {
    "name": "ipython",
    "version": 3
   },
   "file_extension": ".py",
   "mimetype": "text/x-python",
   "name": "python",
   "nbconvert_exporter": "python",
   "pygments_lexer": "ipython3",
   "version": "3.12.4"
  }
 },
 "nbformat": 4,
 "nbformat_minor": 2
}
